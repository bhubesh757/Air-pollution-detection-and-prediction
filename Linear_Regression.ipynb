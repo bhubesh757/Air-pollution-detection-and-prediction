{
  "nbformat": 4,
  "nbformat_minor": 0,
  "metadata": {
    "colab": {
      "private_outputs": true,
      "provenance": []
    },
    "kernelspec": {
      "name": "python3",
      "display_name": "Python 3"
    },
    "language_info": {
      "name": "python"
    }
  },
  "cells": [
    {
      "cell_type": "markdown",
      "source": [
        "AIR QUALITY PREDICTION USING LINEAR REGRESSION\n"
      ],
      "metadata": {
        "id": "wd1S9eyLlDCx"
      }
    },
    {
      "cell_type": "code",
      "source": [
        "import pandas as pd\n",
        "import numpy as np\n",
        "import matplotlib.pyplot as plt\n",
        "import seaborn as sns"
      ],
      "metadata": {
        "id": "8a2PaC0dk-9w"
      },
      "execution_count": null,
      "outputs": []
    },
    {
      "cell_type": "code",
      "source": [
        "df = pd.read_csv('/content/Real_Combine.csv')"
      ],
      "metadata": {
        "id": "Bs2DALmQlN7t"
      },
      "execution_count": null,
      "outputs": []
    },
    {
      "cell_type": "code",
      "source": [
        "df.head()"
      ],
      "metadata": {
        "id": "c_LBqvM0lN8i"
      },
      "execution_count": null,
      "outputs": []
    },
    {
      "cell_type": "code",
      "source": [
        "df.isnull().sum()"
      ],
      "metadata": {
        "id": "HIQ5ssXmlN_l"
      },
      "execution_count": null,
      "outputs": []
    },
    {
      "cell_type": "code",
      "source": [
        "df = df.dropna()\n"
      ],
      "metadata": {
        "id": "_mL4z_JblOBa"
      },
      "execution_count": null,
      "outputs": []
    },
    {
      "cell_type": "code",
      "source": [
        "X = df.iloc[:,:-1] \n",
        "# here we drop the recent feauture and consider other feauturs\n",
        "#independent features"
      ],
      "metadata": {
        "id": "Z5TaX26rlOFD"
      },
      "execution_count": null,
      "outputs": []
    },
    {
      "cell_type": "code",
      "source": [
        "Y = df.iloc[:,-1] ##Dependent Features,"
      ],
      "metadata": {
        "id": "-Qzae2sKlOIt"
      },
      "execution_count": null,
      "outputs": []
    },
    {
      "cell_type": "markdown",
      "source": [
        "correlation of all features with multivariant"
      ],
      "metadata": {
        "id": "1wS4WMier2LI"
      }
    },
    {
      "cell_type": "code",
      "source": [
        "sns.pairplot(df)"
      ],
      "metadata": {
        "id": "pikAfctIrwo6"
      },
      "execution_count": null,
      "outputs": []
    },
    {
      "cell_type": "code",
      "source": [
        "df.corr()"
      ],
      "metadata": {
        "id": "FI-soHUDlOKi"
      },
      "execution_count": null,
      "outputs": []
    },
    {
      "cell_type": "code",
      "source": [],
      "metadata": {
        "id": "VPr3JfaWvn53"
      },
      "execution_count": null,
      "outputs": []
    },
    {
      "cell_type": "code",
      "source": [],
      "metadata": {
        "id": "9ofKqfpIvn4-"
      },
      "execution_count": null,
      "outputs": []
    },
    {
      "cell_type": "code",
      "source": [],
      "metadata": {
        "id": "v5hH1X-5vn3-"
      },
      "execution_count": null,
      "outputs": []
    },
    {
      "cell_type": "markdown",
      "source": [
        "Feauture importance\n",
        "\n",
        "You can get the feature importance of each feature of your dataset by using the feature importance property of the model.\n",
        "\n",
        "Feature importance gives you a score for each feature of your data, the higher the score more important or relevant is the feature towards your output variable.\n",
        "\n",
        "Feature importance is an inbuilt class that comes with Tree Based Regressor, we will be using Extra Tree Regressor for extracting the top 10 features for the dataset."
      ],
      "metadata": {
        "id": "Ewe2-pwwsQWO"
      }
    },
    {
      "cell_type": "code",
      "source": [
        "from sklearn.ensemble import ExtraTreesRegressor\n",
        "model = ExtraTreesRegressor()\n",
        "model.fit(X,Y)"
      ],
      "metadata": {
        "id": "8SDzKARvlOMF"
      },
      "execution_count": null,
      "outputs": []
    },
    {
      "cell_type": "code",
      "source": [
        "X.head()"
      ],
      "metadata": {
        "id": "Vd4U2TMmlOOK"
      },
      "execution_count": null,
      "outputs": []
    },
    {
      "cell_type": "markdown",
      "source": [
        "Ensemble technique \n",
        "check which feature have more  values "
      ],
      "metadata": {
        "id": "QN3HfEyAsu6j"
      }
    },
    {
      "cell_type": "code",
      "source": [
        "print(model.feature_importances_)"
      ],
      "metadata": {
        "id": "e5htsLiJsih2"
      },
      "execution_count": null,
      "outputs": []
    },
    {
      "cell_type": "code",
      "source": [
        "# visualization\n",
        "feat_importances = pd.Series(model.feature_importances_, index=X.columns)\n",
        "feat_importances.nlargest(5).plot(kind='barh')\n",
        "plt.show()\n"
      ],
      "metadata": {
        "id": "ImFMoTHmsigB"
      },
      "execution_count": null,
      "outputs": []
    },
    {
      "cell_type": "markdown",
      "source": [
        "Linear Regression Model"
      ],
      "metadata": {
        "id": "rmKNLvlZtIJ0"
      }
    },
    {
      "cell_type": "code",
      "source": [
        "sns.distplot(Y)"
      ],
      "metadata": {
        "id": "4Wo2Oo5Tsidv"
      },
      "execution_count": null,
      "outputs": []
    },
    {
      "cell_type": "markdown",
      "source": [
        "Training and Testing split\n"
      ],
      "metadata": {
        "id": "C-0wWDtNtVFZ"
      }
    },
    {
      "cell_type": "code",
      "source": [
        "from sklearn.model_selection import train_test_split\n",
        "X_train, X_test , Y_train, Y_test = train_test_split(X,Y, test_size=0.3,random_state=0)"
      ],
      "metadata": {
        "id": "Grf7zNVrsicr"
      },
      "execution_count": null,
      "outputs": []
    },
    {
      "cell_type": "code",
      "source": [
        "from sklearn.linear_model import LinearRegression\n"
      ],
      "metadata": {
        "id": "cOcUjqE6siak"
      },
      "execution_count": null,
      "outputs": []
    },
    {
      "cell_type": "code",
      "source": [
        "Regressor = LinearRegression()\n"
      ],
      "metadata": {
        "id": "B_f-7sLWsiZy"
      },
      "execution_count": null,
      "outputs": []
    },
    {
      "cell_type": "code",
      "source": [
        "Regressor.fit(X_train,Y_train)\n"
      ],
      "metadata": {
        "id": "U-xtI-GhsiZB"
      },
      "execution_count": null,
      "outputs": []
    },
    {
      "cell_type": "code",
      "source": [
        "Regressor.coef_\n"
      ],
      "metadata": {
        "id": "tXjwkrFPuN7-"
      },
      "execution_count": null,
      "outputs": []
    },
    {
      "cell_type": "code",
      "source": [
        "Regressor.intercept_\n"
      ],
      "metadata": {
        "id": "7Tw8F0zruN6h"
      },
      "execution_count": null,
      "outputs": []
    },
    {
      "cell_type": "code",
      "source": [
        "print(\"Coefficient of determination R^2 <-- on train set: {}\".format(Regressor.score(X_train, Y_train)))\n"
      ],
      "metadata": {
        "id": "R0TNwXccuN5m"
      },
      "execution_count": null,
      "outputs": []
    },
    {
      "cell_type": "code",
      "source": [
        "print(\"Coefficient of determination R^2 <-- on train set: {}\".format(Regressor.score(X_test, Y_test)))\n"
      ],
      "metadata": {
        "id": "9pgN3vZxlOP_"
      },
      "execution_count": null,
      "outputs": []
    },
    {
      "cell_type": "code",
      "source": [
        "from sklearn.model_selection import cross_val_score\n",
        "score=cross_val_score(Regressor,X,Y,cv=5)"
      ],
      "metadata": {
        "id": "2Pbox-hnlOR0"
      },
      "execution_count": null,
      "outputs": []
    },
    {
      "cell_type": "code",
      "source": [
        "score.mean()\n"
      ],
      "metadata": {
        "id": "puh3TuO4lOTb"
      },
      "execution_count": null,
      "outputs": []
    },
    {
      "cell_type": "markdown",
      "source": [
        "Model Evalaution\n"
      ],
      "metadata": {
        "id": "GRmjxsmwuuhN"
      }
    },
    {
      "cell_type": "code",
      "source": [
        "coeff_df = pd.DataFrame(Regressor.coef_,X.columns,columns=['Coefficient'])\n"
      ],
      "metadata": {
        "id": "XtlrZu0Tuojq"
      },
      "execution_count": null,
      "outputs": []
    },
    {
      "cell_type": "code",
      "source": [
        "coeff_df"
      ],
      "metadata": {
        "id": "mBioHL54uogz"
      },
      "execution_count": null,
      "outputs": []
    },
    {
      "cell_type": "code",
      "source": [
        "prediction = Regressor.predict(X_test)\n"
      ],
      "metadata": {
        "id": "HZ83sNTJuoes"
      },
      "execution_count": null,
      "outputs": []
    },
    {
      "cell_type": "code",
      "source": [
        "sns.distplot(Y_test - prediction)\n"
      ],
      "metadata": {
        "id": "ST5RVIreuodI"
      },
      "execution_count": null,
      "outputs": []
    },
    {
      "cell_type": "code",
      "source": [
        "plt.scatter(Y_test,prediction)\n"
      ],
      "metadata": {
        "id": "vW4YDo1kuoZx"
      },
      "execution_count": null,
      "outputs": []
    },
    {
      "cell_type": "markdown",
      "source": [
        "Regression Evaluation Metrics\n",
        "Here are three common evaluation metrics for regression problems:\n",
        "\n",
        "Mean Absolute Error (MAE) is the mean of the absolute value of the errors:\n",
        "\n",
        " \n",
        "Mean Squared Error (MSE) is the mean of the squared errors:\n",
        "\n",
        " \n",
        "Root Mean Squared Error (RMSE) is the square root of the mean of the squared errors:\n",
        "\n",
        " \n",
        "Comparing these metrics:\n",
        "MAE is the easiest to understand, because it's the average error.\n",
        "\n",
        "MSE is more popular than MAE, because MSE \"punishes\" larger errors, which tends to be useful in the real world.\n",
        "\n",
        "RMSE is even more popular than MSE, because RMSE is interpretable in the \"y\" units.\n",
        "All of these are loss functions, because we want to minimize them."
      ],
      "metadata": {
        "id": "bq4a8ajqvGxH"
      }
    },
    {
      "cell_type": "code",
      "source": [
        "from sklearn import metrics\n"
      ],
      "metadata": {
        "id": "BZ5ll1Vmu_DU"
      },
      "execution_count": null,
      "outputs": []
    },
    {
      "cell_type": "code",
      "source": [
        "import pickle \n",
        "# open a file, where you ant to store the data\n",
        "file = open('regression_model.pkl', 'wb')\n",
        "\n",
        "# dump information to that file\n",
        "pickle.dump(Regressor, file)"
      ],
      "metadata": {
        "id": "w_YzNgNOu_BO"
      },
      "execution_count": null,
      "outputs": []
    },
    {
      "cell_type": "code",
      "source": [],
      "metadata": {
        "id": "bASj4jJTu-_r"
      },
      "execution_count": null,
      "outputs": []
    },
    {
      "cell_type": "code",
      "source": [],
      "metadata": {
        "id": "-uPXfsauu--K"
      },
      "execution_count": null,
      "outputs": []
    },
    {
      "cell_type": "code",
      "source": [],
      "metadata": {
        "id": "KfCebwOsu-9V"
      },
      "execution_count": null,
      "outputs": []
    },
    {
      "cell_type": "code",
      "source": [],
      "metadata": {
        "id": "gGxZPBADuoXb"
      },
      "execution_count": null,
      "outputs": []
    }
  ]
}