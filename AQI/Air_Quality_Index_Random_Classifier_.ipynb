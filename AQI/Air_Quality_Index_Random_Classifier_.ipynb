{
  "nbformat": 4,
  "nbformat_minor": 0,
  "metadata": {
    "colab": {
      "private_outputs": true,
      "provenance": []
    },
    "kernelspec": {
      "name": "python3",
      "display_name": "Python 3"
    },
    "language_info": {
      "name": "python"
    }
  },
  "cells": [
    {
      "cell_type": "markdown",
      "source": [
        "Air Quality Index\n",
        "Task-\n",
        "1)To identify the Most polluted City\n",
        "2)Create a Model to Predict the quality of air"
      ],
      "metadata": {
        "id": "xWk5eUZoynDw"
      }
    },
    {
      "cell_type": "code",
      "execution_count": null,
      "metadata": {
        "id": "y7EgzTvk87nJ"
      },
      "outputs": [],
      "source": [
        "import numpy as np\n",
        "import pandas as pd\n",
        "import matplotlib.pyplot as plt\n",
        "import seaborn as sns"
      ]
    },
    {
      "cell_type": "code",
      "source": [
        "!pip install sklearn"
      ],
      "metadata": {
        "id": "YY7XBR5F1ev8"
      },
      "execution_count": null,
      "outputs": []
    },
    {
      "cell_type": "code",
      "source": [
        "df=pd.read_csv('city_day.csv',parse_dates = [\"Date\"])\n",
        "df"
      ],
      "metadata": {
        "id": "UDDeiem2yoxM"
      },
      "execution_count": null,
      "outputs": []
    },
    {
      "cell_type": "markdown",
      "source": [
        "Features\n",
        "-->City\n",
        "-->Date\n",
        "-->PM2.5 (Particulate Matter 2.5-micrometer)\n",
        "-->PM10 (Particulate Matter 10-micrometer)\n",
        "-->SO2 (Sulphur Dioxide)\n",
        "-->NOx (Any Nitric x-oxide)\n",
        "-->NH3 (Ammonia)\n",
        "-->CO (Carbon Monoxide)\n",
        "-->O3 (Ozone or Trioxygen)\n",
        "-->Benzene\n",
        "-->Toluene\n",
        "-->Xylene\n",
        "-->AQI\n",
        "-->AQI_Bucket"
      ],
      "metadata": {
        "id": "Xhpsa-OYy0nC"
      }
    },
    {
      "cell_type": "code",
      "source": [
        "sns.heatmap(df.isnull(),yticklabels=False,cbar=False,cmap='viridis')\n"
      ],
      "metadata": {
        "id": "zYBrbJ6vyox9"
      },
      "execution_count": null,
      "outputs": []
    },
    {
      "cell_type": "code",
      "source": [
        "print(df.isnull().sum())\n"
      ],
      "metadata": {
        "id": "17y2MMaKyoyg"
      },
      "execution_count": null,
      "outputs": []
    },
    {
      "cell_type": "code",
      "source": [
        "(df.isnull().sum()/df.shape[0]*100).sort_values(ascending=False)\n"
      ],
      "metadata": {
        "id": "2ZD9kaZvyo1F"
      },
      "execution_count": null,
      "outputs": []
    },
    {
      "cell_type": "code",
      "source": [
        "df.describe() # but it gives the information about all the cities alltogether\n"
      ],
      "metadata": {
        "id": "tjh3dS1nyo3q"
      },
      "execution_count": null,
      "outputs": []
    },
    {
      "cell_type": "code",
      "source": [
        "#converting dtype of date column to datetime\n",
        "df['Date']=df['Date'].apply(pd.to_datetime)\n",
        "#setting date column as index\n",
        "df.set_index('Date',inplace=True)"
      ],
      "metadata": {
        "id": "n9CDGSAkyo5x"
      },
      "execution_count": null,
      "outputs": []
    },
    {
      "cell_type": "code",
      "source": [
        "df.columns"
      ],
      "metadata": {
        "id": "z14KAU5Ty_4a"
      },
      "execution_count": null,
      "outputs": []
    },
    {
      "cell_type": "markdown",
      "source": [
        "filling the Nan values present in the pollutants with mean (city wise)\n"
      ],
      "metadata": {
        "id": "DZdUrFZGzJ4C"
      }
    },
    {
      "cell_type": "code",
      "source": [
        "df.iloc[:, 1:13] = df.groupby(\"City\").transform(lambda x: x.fillna(x.mean()))"
      ],
      "metadata": {
        "id": "ntj5_QGRy_2V"
      },
      "execution_count": null,
      "outputs": []
    },
    {
      "cell_type": "code",
      "source": [
        "df"
      ],
      "metadata": {
        "id": "7Gnm686dy_0z"
      },
      "execution_count": null,
      "outputs": []
    },
    {
      "cell_type": "code",
      "source": [
        "sns.heatmap(df.isnull(),yticklabels=False,cbar=False,cmap='viridis')\n"
      ],
      "metadata": {
        "id": "si2Ly4zdy_yq"
      },
      "execution_count": null,
      "outputs": []
    },
    {
      "cell_type": "code",
      "source": [
        "df.iloc[:, 1:13]=df.fillna(df.mean())\n",
        "df"
      ],
      "metadata": {
        "id": "s9jlOLLXy_w1"
      },
      "execution_count": null,
      "outputs": []
    },
    {
      "cell_type": "code",
      "source": [
        "sns.heatmap(df.isnull(),yticklabels=False,cbar=False,cmap='viridis')\n"
      ],
      "metadata": {
        "id": "MUMzmLZVy_uz"
      },
      "execution_count": null,
      "outputs": []
    },
    {
      "cell_type": "code",
      "source": [
        "# PM10 Sub-Index calculation\n",
        "def get_PM10_subindex(x):\n",
        "    if x <= 50:\n",
        "        return x\n",
        "    elif x > 50 and x <= 100:\n",
        "        return x\n",
        "    elif x > 100 and x <= 250:\n",
        "        return 100 + (x - 100) * 100 / 150\n",
        "    elif x > 250 and x <= 350:\n",
        "        return 200 + (x - 250)\n",
        "    elif x > 350 and x <= 430:\n",
        "        return 300 + (x - 350) * 100 / 80\n",
        "    elif x > 430:\n",
        "        return 400 + (x - 430) * 100 / 80\n",
        "    else:\n",
        "        return 0\n",
        "\n",
        "df[\"PM10_SubIndex\"] = df[\"PM10\"].astype(int).apply(lambda x: get_PM10_subindex(x))\n",
        "    \n",
        "# PM2.5 Sub-Index calculation\n",
        "def get_PM25_subindex(x):\n",
        "    if x <= 30:\n",
        "        return x * 50 / 30\n",
        "    elif x > 30 and x <= 60:\n",
        "        return 50 + (x - 30) * 50 / 30\n",
        "    elif x > 60 and x <= 90:\n",
        "        return 100 + (x - 60) * 100 / 30\n",
        "    elif x > 90 and x <= 120:\n",
        "        return 200 + (x - 90) * 100 / 30\n",
        "    elif x > 120 and x <= 250:\n",
        "        return 300 + (x - 120) * 100 / 130\n",
        "    elif x > 250:\n",
        "        return 400 + (x - 250) * 100 / 130\n",
        "    else:\n",
        "        return 0\n",
        "\n",
        "df[\"PM2.5_SubIndex\"] = df[\"PM2.5\"].astype(int).apply(lambda x: get_PM25_subindex(x))\n",
        "\n",
        "\n",
        "# SO2 Sub-Index calculation\n",
        "def get_SO2_subindex(x):\n",
        "    if x <= 40:\n",
        "        return x * 50 / 40\n",
        "    elif x > 40 and x <= 80:\n",
        "        return 50 + (x - 40) * 50 / 40\n",
        "    elif x > 80 and x <= 380:\n",
        "        return 100 + (x - 80) * 100 / 300\n",
        "    elif x > 380 and x <= 800:\n",
        "        return 200 + (x - 380) * 100 / 420\n",
        "    elif x > 800 and x <= 1600:\n",
        "        return 300 + (x - 800) * 100 / 800\n",
        "    elif x > 1600:\n",
        "        return 400 + (x - 1600) * 100 / 800\n",
        "    else:\n",
        "        return 0\n",
        "\n",
        "df[\"SO2_SubIndex\"] = df[\"SO2\"].astype(int).apply(lambda x: get_SO2_subindex(x))\n",
        "\n",
        "# NOx Sub-Index calculation\n",
        "def get_NOx_subindex(x):\n",
        "    if x <= 40:\n",
        "        return x * 50 / 40\n",
        "    elif x > 40 and x <= 80:\n",
        "        return 50 + (x - 40) * 50 / 40\n",
        "    elif x > 80 and x <= 180:\n",
        "        return 100 + (x - 80) * 100 / 100\n",
        "    elif x > 180 and x <= 280:\n",
        "        return 200 + (x - 180) * 100 / 100\n",
        "    elif x > 280 and x <= 400:\n",
        "        return 300 + (x - 280) * 100 / 120\n",
        "    elif x > 400:\n",
        "        return 400 + (x - 400) * 100 / 120\n",
        "    else:\n",
        "        return 0\n",
        "\n",
        "df[\"NOx_SubIndex\"] = df[\"NOx\"].astype(int).apply(lambda x: get_NOx_subindex(x))\n",
        "\n",
        "# NH3 Sub-Index calculation\n",
        "def get_NH3_subindex(x):\n",
        "    if x <= 200:\n",
        "        return x * 50 / 200\n",
        "    elif x > 200 and x <= 400:\n",
        "        return 50 + (x - 200) * 50 / 200\n",
        "    elif x > 400 and x <= 800:\n",
        "        return 100 + (x - 400) * 100 / 400\n",
        "    elif x > 800 and x <= 1200:\n",
        "        return 200 + (x - 800) * 100 / 400\n",
        "    elif x > 1200 and x <= 1800:\n",
        "        return 300 + (x - 1200) * 100 / 600\n",
        "    elif x > 1800:\n",
        "        return 400 + (x - 1800) * 100 / 600\n",
        "    else:\n",
        "        return 0\n",
        "\n",
        "#df[\"NH3_SubIndex\"] = df[\"NH3\"].astype(int).apply(lambda x: get_NH3_subindex(x))\n",
        "\n",
        "# CO Sub-Index calculation\n",
        "def get_CO_subindex(x):\n",
        "    if x <= 1:\n",
        "        return x * 50 / 1\n",
        "    elif x > 1 and x <= 2:\n",
        "        return 50 + (x - 1) * 50 / 1\n",
        "    elif x > 2 and x <= 10:\n",
        "        return 100 + (x - 2) * 100 / 8\n",
        "    elif x > 10 and x <= 17:\n",
        "        return 200 + (x - 10) * 100 / 7\n",
        "    elif x > 17 and x <= 34:\n",
        "        return 300 + (x - 17) * 100 / 17\n",
        "    elif x > 34:\n",
        "        return 400 + (x - 34) * 100 / 17\n",
        "    else:\n",
        "        return 0\n",
        "\n",
        "df[\"CO_SubIndex\"] = df[\"CO\"].astype(int).apply(lambda x: get_CO_subindex(x))\n",
        "\n",
        "# O3 Sub-Index calculation\n",
        "def get_O3_subindex(x):\n",
        "    if x <= 50:\n",
        "        return x * 50 / 50\n",
        "    elif x > 50 and x <= 100:\n",
        "        return 50 + (x - 50) * 50 / 50\n",
        "    elif x > 100 and x <= 168:\n",
        "        return 100 + (x - 100) * 100 / 68\n",
        "    elif x > 168 and x <= 208:\n",
        "        return 200 + (x - 168) * 100 / 40\n",
        "    elif x > 208 and x <= 748:\n",
        "        return 300 + (x - 208) * 100 / 539\n",
        "    elif x > 748:\n",
        "        return 400 + (x - 400) * 100 / 539\n",
        "    else:\n",
        "        return 0\n",
        "\n",
        "df[\"O3_SubIndex\"] = df[\"O3\"].astype(int).apply(lambda x: get_O3_subindex(x))\n",
        "\n"
      ],
      "metadata": {
        "id": "3Yy6O7eu113F"
      },
      "execution_count": null,
      "outputs": []
    },
    {
      "cell_type": "markdown",
      "source": [
        "The AQI calculation uses 7 measures: PM2.5, PM10, SO2, NOx, NH3, CO and O3.\n",
        "-->For PM2.5, PM10, SO2, NOx and NH3 the average value in last 24-hrs is used with the condition of having at least 16 values.\n",
        "\n",
        "-->For CO and O3 the maximum value in last 8-hrs is used.\n",
        "\n",
        "-->Each measure is converted into a Sub-Index based on pre-defined groups.\n",
        "\n",
        "-->Sometimes measures are not available due to lack of measuring or lack of required data points.\n",
        "\n",
        "-->Final AQI is the maximum Sub-Index with the condition that at least one of PM2.5 and PM10 should be available and at least three out of the seven should be available."
      ],
      "metadata": {
        "id": "frKAtLfEzpqK"
      }
    },
    {
      "cell_type": "markdown",
      "source": [
        "Filling the Nan values of AQI column by taking maximum values out of sub-Indexes\n"
      ],
      "metadata": {
        "id": "hCEhhiZOzyk5"
      }
    },
    {
      "cell_type": "code",
      "source": [
        "df[\"AQI\"] = df[\"AQI\"].fillna(round(df[[\"PM2.5_SubIndex\", \"PM10_SubIndex\", \"SO2_SubIndex\", \"NOx_SubIndex\",\"NH3_SubIndex\", \"CO_SubIndex\", \"O3_SubIndex\"]].max(axis = 1)))\n"
      ],
      "metadata": {
        "id": "3G22r0XUy_s7"
      },
      "execution_count": null,
      "outputs": []
    },
    {
      "cell_type": "code",
      "source": [
        "df"
      ],
      "metadata": {
        "id": "hGOMKgBfzpFg"
      },
      "execution_count": null,
      "outputs": []
    },
    {
      "cell_type": "code",
      "source": [
        "sns.heatmap(df.isnull(),yticklabels=False,cbar=False,cmap='viridis')\n"
      ],
      "metadata": {
        "id": "MXPOMZWXzpC5"
      },
      "execution_count": null,
      "outputs": []
    },
    {
      "cell_type": "markdown",
      "source": [
        "AQI Bucket"
      ],
      "metadata": {
        "id": "dAu5d9NKz5oq"
      }
    },
    {
      "cell_type": "code",
      "source": [
        "from IPython import display \n",
        "display.Image(\"__results___16_0.png\",width = 400, height = 200)\n"
      ],
      "metadata": {
        "id": "Gt20xLyLzo_Q"
      },
      "execution_count": null,
      "outputs": []
    },
    {
      "cell_type": "markdown",
      "source": [
        "calculating AQI bucket and filling the NAN value present\n"
      ],
      "metadata": {
        "id": "7IMdvejGz_KX"
      }
    },
    {
      "cell_type": "code",
      "source": [
        "## AQI bucketing\n",
        "def get_AQI_bucket(x):\n",
        "    if x <= 50:\n",
        "        return \"Good\"\n",
        "    elif x > 50 and x <= 100:\n",
        "        return \"Satisfactory\"\n",
        "    elif x > 100 and x <= 200:\n",
        "        return \"Moderate\"\n",
        "    elif x > 200 and x <= 300:\n",
        "        return \"Poor\"\n",
        "    elif x > 300 and x <= 400:\n",
        "        return \"Very Poor\"\n",
        "    elif x > 400:\n",
        "        return \"Severe\"\n",
        "    else:\n",
        "        return '0'\n",
        "    \n",
        "df[\"AQI_Bucket\"] = df[\"AQI_Bucket\"].fillna(df[\"AQI\"].apply(lambda x: get_AQI_bucket(x)))\n",
        "\n"
      ],
      "metadata": {
        "id": "XX2SJhUozo7W"
      },
      "execution_count": null,
      "outputs": []
    },
    {
      "cell_type": "code",
      "source": [
        "df"
      ],
      "metadata": {
        "id": "gAB3wINczo5h"
      },
      "execution_count": null,
      "outputs": []
    },
    {
      "cell_type": "code",
      "source": [
        "sns.heatmap(df.isnull(),yticklabels=False,cbar=False,cmap='viridis')\n"
      ],
      "metadata": {
        "id": "3hhOWHLJzo3c"
      },
      "execution_count": null,
      "outputs": []
    },
    {
      "cell_type": "code",
      "source": [
        "df.columns\n"
      ],
      "metadata": {
        "id": "qLQdo2EAzo1p"
      },
      "execution_count": null,
      "outputs": []
    },
    {
      "cell_type": "code",
      "source": [
        "\n",
        "df_city_day = df.copy()\n",
        "df_city_day.columns"
      ],
      "metadata": {
        "id": "pxzYeVlzzozj"
      },
      "execution_count": null,
      "outputs": []
    },
    {
      "cell_type": "code",
      "source": [
        "plt.figure(figsize=(12,10))\n",
        "sns.heatmap(df.corr(),cmap='coolwarm',annot=True);"
      ],
      "metadata": {
        "id": "0RrEpTryzow7"
      },
      "execution_count": null,
      "outputs": []
    },
    {
      "cell_type": "code",
      "source": [
        "pollutants = ['PM2.5', 'PM10', 'NO', 'NO2', 'NOx', 'NH3', 'CO', 'SO2','O3', 'Benzene', 'Toluene', 'Xylene']\n",
        "df_city_day = df_city_day[pollutants]\n",
        "\n",
        "print('Distribution of different pollutants in last 5 years')\n",
        "df_city_day.plot(kind='line',figsize=(18,18),cmap='coolwarm',subplots=True,fontsize=10);\n",
        "\n",
        "\n",
        " "
      ],
      "metadata": {
        "id": "mL6mrub9zovU"
      },
      "execution_count": null,
      "outputs": []
    },
    {
      "cell_type": "code",
      "source": [
        "df[['City','AQI']].groupby('City').mean().sort_values('AQI').plot(kind='bar',cmap='Blues_r',figsize=(8,8))\n",
        "plt.title('Average AQI in last 5 years');"
      ],
      "metadata": {
        "id": "A6TfUneszouX"
      },
      "execution_count": null,
      "outputs": []
    },
    {
      "cell_type": "markdown",
      "source": [
        "Creating Model for predicting the Output\n"
      ],
      "metadata": {
        "id": "VnwErjxu0aXW"
      }
    },
    {
      "cell_type": "code",
      "source": [
        "final_df= df[['AQI', 'AQI_Bucket']].copy()\n",
        "final_df"
      ],
      "metadata": {
        "id": "QgVkejCpy_rH"
      },
      "execution_count": null,
      "outputs": []
    },
    {
      "cell_type": "code",
      "source": [
        "final_df['AQI_Bucket'].unique()\n"
      ],
      "metadata": {
        "id": "ukIoT9mWy_nw"
      },
      "execution_count": null,
      "outputs": []
    },
    {
      "cell_type": "code",
      "source": [
        "\n",
        "#final_df = pd.get_dummies(final_df)\n",
        "final_df['AQI_Bucket'] = final_df['AQI_Bucket'].map({'Good' :0, 'Satisfactory' :1, 'Moderate' :2, 'Poor' :3, 'Very Poor' :4, 'Severe' :5}).astype(int) #mapping numbers\n",
        "final_df.head()"
      ],
      "metadata": {
        "id": "xLRvreUVy_nH"
      },
      "execution_count": null,
      "outputs": []
    },
    {
      "cell_type": "markdown",
      "source": [
        "Predicting the values of AQI_Bucket w.r.t values of AQI using Random Forest Classifier"
      ],
      "metadata": {
        "id": "gt0ytDsb0k2e"
      }
    },
    {
      "cell_type": "code",
      "source": [
        "\n",
        "X = final_df[['AQI']]\n",
        "y = final_df[['AQI_Bucket']]"
      ],
      "metadata": {
        "id": "33uLQiiq0iZ_"
      },
      "execution_count": null,
      "outputs": []
    },
    {
      "cell_type": "code",
      "source": [
        "from sklearn.ensemble import RandomForestClassifier\n",
        "from sklearn.model_selection import  train_test_split\n",
        "\n",
        "X_train, X_test, y_train, y_test = train_test_split(X, y, random_state = 0)\n",
        "\n",
        "clf = RandomForestClassifier(random_state = 0).fit(X_train, y_train)\n",
        "\n",
        "y_pred = clf.predict(X_test)\n",
        "\n"
      ],
      "metadata": {
        "id": "XChwEuMu0iYI"
      },
      "execution_count": null,
      "outputs": []
    },
    {
      "cell_type": "code",
      "source": [
        "print(\"Enter the value of AQI:\")\n",
        "AQI = float(input(\"AQI : \"))\n",
        "output = clf.predict([[AQI]])\n",
        "output\n",
        "#0-->Good\n",
        "#1-->Satisfactory\n",
        "#2-->moderate\n",
        "#3-->poor\n",
        "#4-->Very poor\n",
        "#5-->Severe\n"
      ],
      "metadata": {
        "id": "YQZx4MK_0iVz"
      },
      "execution_count": null,
      "outputs": []
    },
    {
      "cell_type": "code",
      "source": [
        "from sklearn.metrics import accuracy_score,classification_report,confusion_matrix\n",
        "print(accuracy_score(y_test, y_pred))\n",
        "print(classification_report(y_test, y_pred))\n",
        "print(confusion_matrix(y_test, y_pred))"
      ],
      "metadata": {
        "id": "iUXOTpFQ0iUf"
      },
      "execution_count": null,
      "outputs": []
    },
    {
      "cell_type": "code",
      "source": [],
      "metadata": {
        "id": "YpIJ50-O0iSf"
      },
      "execution_count": null,
      "outputs": []
    },
    {
      "cell_type": "code",
      "source": [],
      "metadata": {
        "id": "_RToXdKp0iRr"
      },
      "execution_count": null,
      "outputs": []
    },
    {
      "cell_type": "code",
      "source": [],
      "metadata": {
        "id": "j76Zl5LY0iQ1"
      },
      "execution_count": null,
      "outputs": []
    },
    {
      "cell_type": "code",
      "source": [],
      "metadata": {
        "id": "s-rhSWfzy_md"
      },
      "execution_count": null,
      "outputs": []
    },
    {
      "cell_type": "markdown",
      "source": [],
      "metadata": {
        "id": "OKdeW49gynFR"
      }
    }
  ]
}