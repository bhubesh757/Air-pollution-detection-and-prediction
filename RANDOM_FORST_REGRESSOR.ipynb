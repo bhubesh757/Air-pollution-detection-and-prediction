{
  "nbformat": 4,
  "nbformat_minor": 0,
  "metadata": {
    "colab": {
      "private_outputs": true,
      "provenance": []
    },
    "kernelspec": {
      "name": "python3",
      "display_name": "Python 3"
    },
    "language_info": {
      "name": "python"
    }
  },
  "cells": [
    {
      "cell_type": "markdown",
      "source": [
        "RANDOM FOREST"
      ],
      "metadata": {
        "id": "Iki5vIeGCllk"
      }
    },
    {
      "cell_type": "code",
      "source": [
        "import pandas as pd\n",
        "import numpy as np\n",
        "import matplotlib.pyplot as plt\n",
        "import seaborn as sns"
      ],
      "metadata": {
        "id": "LeuJbGUlCucW"
      },
      "execution_count": null,
      "outputs": []
    },
    {
      "cell_type": "code",
      "source": [
        "combined_data = pd.read_csv('cleaned_data.csv')\n"
      ],
      "metadata": {
        "id": "MzjwCuIYCueo"
      },
      "execution_count": null,
      "outputs": []
    },
    {
      "cell_type": "code",
      "source": [
        "combined_data.head()"
      ],
      "metadata": {
        "id": "Cgsl1F7-CuiE"
      },
      "execution_count": null,
      "outputs": []
    },
    {
      "cell_type": "code",
      "source": [
        "X = combined_data.iloc[:, :-1]\n",
        "y = combined_data.iloc[:, -1]"
      ],
      "metadata": {
        "id": "nZ-LTNY2Culv"
      },
      "execution_count": null,
      "outputs": []
    },
    {
      "cell_type": "code",
      "source": [
        "from sklearn.model_selection import train_test_split\n",
        "X_train, X_test, y_train, y_test = train_test_split(X, y, test_size=0.3, random_state=43)\n"
      ],
      "metadata": {
        "id": "58wTNbSFF8Si"
      },
      "execution_count": null,
      "outputs": []
    },
    {
      "cell_type": "markdown",
      "source": [
        "Random Forest Regressor"
      ],
      "metadata": {
        "id": "CmP8HWE0EjpK"
      }
    },
    {
      "cell_type": "code",
      "source": [
        "from sklearn.ensemble import RandomForestRegressor\n",
        "forest = RandomForestRegressor()\n",
        "forest.fit(X_train, y_train)\n"
      ],
      "metadata": {
        "id": "vhz7PYCcEI8C"
      },
      "execution_count": null,
      "outputs": []
    },
    {
      "cell_type": "code",
      "source": [
        "f'Coefficient of determination R^2 on train set {forest.score(X_train, y_train)}'\n"
      ],
      "metadata": {
        "id": "3GRBMIAmEI88"
      },
      "execution_count": null,
      "outputs": []
    },
    {
      "cell_type": "code",
      "source": [
        "f'Coefficient of determination R^2 on test set {forest.score(X_test, y_test)}'\n"
      ],
      "metadata": {
        "id": "KDpf7ZLlEI-F"
      },
      "execution_count": null,
      "outputs": []
    },
    {
      "cell_type": "code",
      "source": [
        "\n",
        "from sklearn.model_selection import cross_val_score\n",
        "score = cross_val_score(forest, X, y, cv = 3)"
      ],
      "metadata": {
        "id": "_ew9LbMJEI_p"
      },
      "execution_count": null,
      "outputs": []
    },
    {
      "cell_type": "code",
      "source": [
        "score.mean()\n"
      ],
      "metadata": {
        "id": "rPCTjfrUEJBe"
      },
      "execution_count": null,
      "outputs": []
    },
    {
      "cell_type": "code",
      "source": [
        "pred = forest.predict(X_test)"
      ],
      "metadata": {
        "id": "ff-3zUzYEJEW"
      },
      "execution_count": null,
      "outputs": []
    },
    {
      "cell_type": "code",
      "source": [
        "sns.distplot(y_test - pred)\n"
      ],
      "metadata": {
        "id": "xk3wo-3AEJG8"
      },
      "execution_count": null,
      "outputs": []
    },
    {
      "cell_type": "code",
      "source": [
        "n_estimators = [int(x) for x in np.linspace(start=100, stop=1200, num=12)]\n",
        "max_features = ['auto', 'sqrt']\n",
        "max_depth = [int(x) for x in np.linspace(5, 30, num=6)]\n",
        "min_samples_split = [2, 5, 10, 15, 20]\n",
        "min_samples_leaf = [1, 2, 5, 10]\n",
        "params = {\n",
        "    'n_estimators': n_estimators,\n",
        "    'max_features': max_features,\n",
        "    'max_depth': max_depth,\n",
        "    'min_samples_leaf': min_samples_split,\n",
        "    'min_samples_leaf': min_samples_leaf\n",
        "}"
      ],
      "metadata": {
        "id": "B92Wd-sEE0Ki"
      },
      "execution_count": null,
      "outputs": []
    },
    {
      "cell_type": "code",
      "source": [
        "from sklearn.model_selection import RandomizedSearchCV\n",
        "search = RandomizedSearchCV(forest, params, scoring='neg_mean_squared_error', \n",
        "                            cv=5, n_iter=100, random_state=43, n_jobs=-1)\n",
        "search.fit(X,y)"
      ],
      "metadata": {
        "id": "lh98xelOE0JS"
      },
      "execution_count": null,
      "outputs": []
    },
    {
      "cell_type": "code",
      "source": [
        "search.best_params_\n"
      ],
      "metadata": {
        "id": "7CBHvXK9E0HL"
      },
      "execution_count": null,
      "outputs": []
    },
    {
      "cell_type": "code",
      "source": [
        "search.best_score_\n"
      ],
      "metadata": {
        "id": "WtGpF9iiE0Fl"
      },
      "execution_count": null,
      "outputs": []
    },
    {
      "cell_type": "code",
      "source": [
        "pred = search.predict(X_test)\n",
        "sns.distplot(y_test-pred)"
      ],
      "metadata": {
        "id": "gKpYt1dUE0Dx"
      },
      "execution_count": null,
      "outputs": []
    },
    {
      "cell_type": "code",
      "source": [
        "from sklearn import metrics\n",
        "print(f\"Mean Abs Error: {metrics.mean_absolute_error(y_test, pred)}\")\n",
        "print(f\"Mean Sq Error: {metrics.mean_squared_error(y_test, pred)}\")\n",
        "print(f\"Root Mean Error: {np.sqrt(metrics.mean_squared_error(y_test, pred))}\")\n"
      ],
      "metadata": {
        "id": "OvXWRkttE0Cc"
      },
      "execution_count": null,
      "outputs": []
    },
    {
      "cell_type": "code",
      "source": [
        "search.best_estimator_\n"
      ],
      "metadata": {
        "id": "6nwoQ-oBE0Bs"
      },
      "execution_count": null,
      "outputs": []
    },
    {
      "cell_type": "code",
      "source": [],
      "metadata": {
        "id": "8YuP6_DiCum9"
      },
      "execution_count": null,
      "outputs": []
    },
    {
      "cell_type": "code",
      "source": [],
      "metadata": {
        "id": "H96h_PsECupD"
      },
      "execution_count": null,
      "outputs": []
    }
  ]
}